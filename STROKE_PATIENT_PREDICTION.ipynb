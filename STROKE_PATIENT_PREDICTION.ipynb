{
 "cells": [
  {
   "cell_type": "markdown",
   "metadata": {
    "id": "WKtrZzNQ6rqC"
   },
   "source": [
    "# ***STROKE PATIENT PREDICTION***"
   ]
  },
  {
   "cell_type": "markdown",
   "metadata": {
    "id": "aXg3_kG21BDM"
   },
   "source": [
    "<br>**Import Basic Libraries**"
   ]
  },
  {
   "cell_type": "code",
   "execution_count": 1,
   "metadata": {
    "id": "sfgreCw0CAaw"
   },
   "outputs": [],
   "source": [
    "import numpy as np\n",
    "import matplotlib.pyplot as plt\n",
    "import pandas as pd\n",
    "import seaborn as sns\n",
    "import warnings\n",
    "warnings.filterwarnings('ignore')"
   ]
  },
  {
   "cell_type": "markdown",
   "metadata": {
    "id": "eWxOhNRf1J_6"
   },
   "source": [
    "**Load Dataset**"
   ]
  },
  {
   "cell_type": "code",
   "execution_count": 2,
   "metadata": {
    "colab": {
     "base_uri": "https://localhost:8080/",
     "height": 305
    },
    "executionInfo": {
     "elapsed": 1415,
     "status": "ok",
     "timestamp": 1656337872456,
     "user": {
      "displayName": "sonal gawande",
      "userId": "06526542575482993508"
     },
     "user_tz": -330
    },
    "id": "91pljh1VCQRU",
    "outputId": "56ebed3c-aea2-4b80-8132-9c24e05f225d"
   },
   "outputs": [
    {
     "data": {
      "text/html": [
       "<div>\n",
       "<style scoped>\n",
       "    .dataframe tbody tr th:only-of-type {\n",
       "        vertical-align: middle;\n",
       "    }\n",
       "\n",
       "    .dataframe tbody tr th {\n",
       "        vertical-align: top;\n",
       "    }\n",
       "\n",
       "    .dataframe thead th {\n",
       "        text-align: right;\n",
       "    }\n",
       "</style>\n",
       "<table border=\"1\" class=\"dataframe\">\n",
       "  <thead>\n",
       "    <tr style=\"text-align: right;\">\n",
       "      <th></th>\n",
       "      <th>id</th>\n",
       "      <th>gender</th>\n",
       "      <th>age</th>\n",
       "      <th>hypertension</th>\n",
       "      <th>heart_disease</th>\n",
       "      <th>ever_married</th>\n",
       "      <th>work_type</th>\n",
       "      <th>Residence_type</th>\n",
       "      <th>avg_glucose_level</th>\n",
       "      <th>bmi</th>\n",
       "      <th>smoking_status</th>\n",
       "      <th>stroke</th>\n",
       "    </tr>\n",
       "  </thead>\n",
       "  <tbody>\n",
       "    <tr>\n",
       "      <th>0</th>\n",
       "      <td>9046</td>\n",
       "      <td>Male</td>\n",
       "      <td>67.0</td>\n",
       "      <td>0</td>\n",
       "      <td>1</td>\n",
       "      <td>Yes</td>\n",
       "      <td>Private</td>\n",
       "      <td>Urban</td>\n",
       "      <td>228.69</td>\n",
       "      <td>36.6</td>\n",
       "      <td>formerly smoked</td>\n",
       "      <td>1</td>\n",
       "    </tr>\n",
       "    <tr>\n",
       "      <th>1</th>\n",
       "      <td>51676</td>\n",
       "      <td>Female</td>\n",
       "      <td>61.0</td>\n",
       "      <td>0</td>\n",
       "      <td>0</td>\n",
       "      <td>Yes</td>\n",
       "      <td>Self-employed</td>\n",
       "      <td>Rural</td>\n",
       "      <td>202.21</td>\n",
       "      <td>NaN</td>\n",
       "      <td>never smoked</td>\n",
       "      <td>1</td>\n",
       "    </tr>\n",
       "    <tr>\n",
       "      <th>2</th>\n",
       "      <td>31112</td>\n",
       "      <td>Male</td>\n",
       "      <td>80.0</td>\n",
       "      <td>0</td>\n",
       "      <td>1</td>\n",
       "      <td>Yes</td>\n",
       "      <td>Private</td>\n",
       "      <td>Rural</td>\n",
       "      <td>105.92</td>\n",
       "      <td>32.5</td>\n",
       "      <td>never smoked</td>\n",
       "      <td>1</td>\n",
       "    </tr>\n",
       "    <tr>\n",
       "      <th>3</th>\n",
       "      <td>60182</td>\n",
       "      <td>Female</td>\n",
       "      <td>49.0</td>\n",
       "      <td>0</td>\n",
       "      <td>0</td>\n",
       "      <td>Yes</td>\n",
       "      <td>Private</td>\n",
       "      <td>Urban</td>\n",
       "      <td>171.23</td>\n",
       "      <td>34.4</td>\n",
       "      <td>smokes</td>\n",
       "      <td>1</td>\n",
       "    </tr>\n",
       "    <tr>\n",
       "      <th>4</th>\n",
       "      <td>1665</td>\n",
       "      <td>Female</td>\n",
       "      <td>79.0</td>\n",
       "      <td>1</td>\n",
       "      <td>0</td>\n",
       "      <td>Yes</td>\n",
       "      <td>Self-employed</td>\n",
       "      <td>Rural</td>\n",
       "      <td>174.12</td>\n",
       "      <td>24.0</td>\n",
       "      <td>never smoked</td>\n",
       "      <td>1</td>\n",
       "    </tr>\n",
       "  </tbody>\n",
       "</table>\n",
       "</div>"
      ],
      "text/plain": [
       "      id  gender   age  hypertension  heart_disease ever_married  \\\n",
       "0   9046    Male  67.0             0              1          Yes   \n",
       "1  51676  Female  61.0             0              0          Yes   \n",
       "2  31112    Male  80.0             0              1          Yes   \n",
       "3  60182  Female  49.0             0              0          Yes   \n",
       "4   1665  Female  79.0             1              0          Yes   \n",
       "\n",
       "       work_type Residence_type  avg_glucose_level   bmi   smoking_status  \\\n",
       "0        Private          Urban             228.69  36.6  formerly smoked   \n",
       "1  Self-employed          Rural             202.21   NaN     never smoked   \n",
       "2        Private          Rural             105.92  32.5     never smoked   \n",
       "3        Private          Urban             171.23  34.4           smokes   \n",
       "4  Self-employed          Rural             174.12  24.0     never smoked   \n",
       "\n",
       "   stroke  \n",
       "0       1  \n",
       "1       1  \n",
       "2       1  \n",
       "3       1  \n",
       "4       1  "
      ]
     },
     "execution_count": 2,
     "metadata": {},
     "output_type": "execute_result"
    }
   ],
   "source": [
    "st=pd.read_csv('healthcare-dataset-stroke-data.csv')\n",
    "st.head()"
   ]
  },
  {
   "cell_type": "markdown",
   "metadata": {
    "id": "zHbkj5nR1Rgq"
   },
   "source": [
    "***PROBLEM STATEMENT*** : *THE PATIENT WILL SUFFER FROM STROKE OR NOT.*"
   ]
  },
  {
   "cell_type": "markdown",
   "metadata": {
    "id": "0B8zzXOP1REz"
   },
   "source": [
    "**Count of Null Values**"
   ]
  },
  {
   "cell_type": "code",
   "execution_count": 3,
   "metadata": {
    "colab": {
     "base_uri": "https://localhost:8080/"
    },
    "executionInfo": {
     "elapsed": 16,
     "status": "ok",
     "timestamp": 1656337872457,
     "user": {
      "displayName": "sonal gawande",
      "userId": "06526542575482993508"
     },
     "user_tz": -330
    },
    "id": "Pn6TMtV-C07K",
    "outputId": "4af8263a-27d3-461c-d017-d2c1efb096d7"
   },
   "outputs": [
    {
     "data": {
      "text/plain": [
       "id                     0\n",
       "gender                 0\n",
       "age                    0\n",
       "hypertension           0\n",
       "heart_disease          0\n",
       "ever_married           0\n",
       "work_type              0\n",
       "Residence_type         0\n",
       "avg_glucose_level      0\n",
       "bmi                  201\n",
       "smoking_status         0\n",
       "stroke                 0\n",
       "dtype: int64"
      ]
     },
     "execution_count": 3,
     "metadata": {},
     "output_type": "execute_result"
    }
   ],
   "source": [
    "st.isnull().sum()"
   ]
  },
  {
   "cell_type": "markdown",
   "metadata": {
    "id": "jz5kgusS1YvG"
   },
   "source": [
    "**Fill Null Values with Mean of bmi**"
   ]
  },
  {
   "cell_type": "code",
   "execution_count": 4,
   "metadata": {
    "id": "EwRfP4b9PBml"
   },
   "outputs": [],
   "source": [
    "m=st['bmi'].mean()\n",
    "st['bmi'].fillna(m,inplace=True)"
   ]
  },
  {
   "cell_type": "markdown",
   "metadata": {
    "id": "sohWXhRM1s7w"
   },
   "source": [
    "**Check for Null Values**"
   ]
  },
  {
   "cell_type": "code",
   "execution_count": 5,
   "metadata": {
    "colab": {
     "base_uri": "https://localhost:8080/"
    },
    "executionInfo": {
     "elapsed": 15,
     "status": "ok",
     "timestamp": 1656337872459,
     "user": {
      "displayName": "sonal gawande",
      "userId": "06526542575482993508"
     },
     "user_tz": -330
    },
    "id": "LzOmm8cKPhG7",
    "outputId": "53700dc3-46eb-4f19-d2a2-2294f0c5884f"
   },
   "outputs": [
    {
     "data": {
      "text/plain": [
       "id                   0\n",
       "gender               0\n",
       "age                  0\n",
       "hypertension         0\n",
       "heart_disease        0\n",
       "ever_married         0\n",
       "work_type            0\n",
       "Residence_type       0\n",
       "avg_glucose_level    0\n",
       "bmi                  0\n",
       "smoking_status       0\n",
       "stroke               0\n",
       "dtype: int64"
      ]
     },
     "execution_count": 5,
     "metadata": {},
     "output_type": "execute_result"
    }
   ],
   "source": [
    "st.isnull().sum()"
   ]
  },
  {
   "cell_type": "markdown",
   "metadata": {
    "id": "ujeDhqgD115W"
   },
   "source": [
    "**Shape of Dataset**"
   ]
  },
  {
   "cell_type": "code",
   "execution_count": 6,
   "metadata": {
    "colab": {
     "base_uri": "https://localhost:8080/"
    },
    "executionInfo": {
     "elapsed": 14,
     "status": "ok",
     "timestamp": 1656337872460,
     "user": {
      "displayName": "sonal gawande",
      "userId": "06526542575482993508"
     },
     "user_tz": -330
    },
    "id": "y_vMcWRcOSPe",
    "outputId": "85accf38-f60d-4399-d6af-05e757580df9"
   },
   "outputs": [
    {
     "data": {
      "text/plain": [
       "(5110, 12)"
      ]
     },
     "execution_count": 6,
     "metadata": {},
     "output_type": "execute_result"
    }
   ],
   "source": [
    "st.shape"
   ]
  },
  {
   "cell_type": "markdown",
   "metadata": {
    "id": "GH4k9ar8186Q"
   },
   "source": [
    "**Data types of Features**"
   ]
  },
  {
   "cell_type": "code",
   "execution_count": 7,
   "metadata": {
    "colab": {
     "base_uri": "https://localhost:8080/"
    },
    "executionInfo": {
     "elapsed": 13,
     "status": "ok",
     "timestamp": 1656337872461,
     "user": {
      "displayName": "sonal gawande",
      "userId": "06526542575482993508"
     },
     "user_tz": -330
    },
    "id": "QKRlMHyBOaQm",
    "outputId": "57475e81-b514-40aa-d378-b679ac1d2935"
   },
   "outputs": [
    {
     "data": {
      "text/plain": [
       "id                     int64\n",
       "gender                object\n",
       "age                  float64\n",
       "hypertension           int64\n",
       "heart_disease          int64\n",
       "ever_married          object\n",
       "work_type             object\n",
       "Residence_type        object\n",
       "avg_glucose_level    float64\n",
       "bmi                  float64\n",
       "smoking_status        object\n",
       "stroke                 int64\n",
       "dtype: object"
      ]
     },
     "execution_count": 7,
     "metadata": {},
     "output_type": "execute_result"
    }
   ],
   "source": [
    "st.dtypes"
   ]
  },
  {
   "cell_type": "markdown",
   "metadata": {
    "id": "1cIOD7qi2Ckl"
   },
   "source": [
    "**Remove Unwanted Features/Columns**"
   ]
  },
  {
   "cell_type": "code",
   "execution_count": 8,
   "metadata": {
    "id": "WThDGHutOe1F"
   },
   "outputs": [],
   "source": [
    "st.drop('id',inplace=True,axis=1)"
   ]
  },
  {
   "cell_type": "markdown",
   "metadata": {
    "id": "b-zygmLf2Jo6"
   },
   "source": [
    "**Duplicate values**"
   ]
  },
  {
   "cell_type": "code",
   "execution_count": 9,
   "metadata": {
    "colab": {
     "base_uri": "https://localhost:8080/"
    },
    "executionInfo": {
     "elapsed": 13,
     "status": "ok",
     "timestamp": 1656337872463,
     "user": {
      "displayName": "sonal gawande",
      "userId": "06526542575482993508"
     },
     "user_tz": -330
    },
    "id": "csd05y7lOtU2",
    "outputId": "4424815e-1c63-40af-ee04-59fde8b1bbee"
   },
   "outputs": [
    {
     "data": {
      "text/plain": [
       "0"
      ]
     },
     "execution_count": 9,
     "metadata": {},
     "output_type": "execute_result"
    }
   ],
   "source": [
    "st.duplicated().sum()"
   ]
  },
  {
   "cell_type": "markdown",
   "metadata": {
    "id": "wU6f-zaK2O9f"
   },
   "source": [
    "***Visualise Null Values***"
   ]
  },
  {
   "cell_type": "code",
   "execution_count": 10,
   "metadata": {
    "colab": {
     "base_uri": "https://localhost:8080/",
     "height": 351
    },
    "executionInfo": {
     "elapsed": 587,
     "status": "ok",
     "timestamp": 1656337873038,
     "user": {
      "displayName": "sonal gawande",
      "userId": "06526542575482993508"
     },
     "user_tz": -330
    },
    "id": "S5VPRkwpOxf8",
    "outputId": "0a32f11e-1db9-4309-8a62-2258200f7966"
   },
   "outputs": [
    {
     "data": {
      "image/png": "[encoded data removed]",
      "text/plain": [
       "<Figure size 432x288 with 2 Axes>"
      ]
     },
     "metadata": {
      "needs_background": "light"
     },
     "output_type": "display_data"
    }
   ],
   "source": [
    "sns.heatmap(st.isnull())\n",
    "plt.show()"
   ]
  },
  {
   "cell_type": "markdown",
   "metadata": {
    "id": "3h01Uspedur5"
   },
   "source": [
    "We have filled null values, dropped duplicate values and dropped unwanted features. \n",
    "\n",
    "We have both numericala and categorical features in our dataset so we split dataset \n",
    "\n",
    "and then apply Label Encoder to convert categorical to numerical and then merge dataset. \n",
    "\n"
   ]
  },
  {
   "cell_type": "markdown",
   "metadata": {
    "id": "QFShxaAo2VgH"
   },
   "source": [
    "**Split Dataset into Numerical and Categorical Type**"
   ]
  },
  {
   "cell_type": "code",
   "execution_count": 11,
   "metadata": {
    "id": "NwSAK7RDSJ6_"
   },
   "outputs": [],
   "source": [
    "st_num=st.select_dtypes(['int64','float64'])\n",
    "st_cat=st.select_dtypes(object)"
   ]
  },
  {
   "cell_type": "code",
   "execution_count": 12,
   "metadata": {
    "colab": {
     "base_uri": "https://localhost:8080/"
    },
    "executionInfo": {
     "elapsed": 10,
     "status": "ok",
     "timestamp": 1656337873039,
     "user": {
      "displayName": "sonal gawande",
      "userId": "06526542575482993508"
     },
     "user_tz": -330
    },
    "id": "Fp58QftsSJ9l",
    "outputId": "9697e940-d844-4e80-9edc-b408bf30c4a3"
   },
   "outputs": [
    {
     "data": {
      "text/plain": [
       "Index(['age', 'hypertension', 'heart_disease', 'avg_glucose_level', 'bmi',\n",
       "       'stroke'],\n",
       "      dtype='object')"
      ]
     },
     "execution_count": 12,
     "metadata": {},
     "output_type": "execute_result"
    }
   ],
   "source": [
    "st_num.columns"
   ]
  },
  {
   "cell_type": "code",
   "execution_count": 13,
   "metadata": {
    "colab": {
     "base_uri": "https://localhost:8080/"
    },
    "executionInfo": {
     "elapsed": 8,
     "status": "ok",
     "timestamp": 1656337873040,
     "user": {
      "displayName": "sonal gawande",
      "userId": "06526542575482993508"
     },
     "user_tz": -330
    },
    "id": "Gtuz-ytaSKAS",
    "outputId": "39114da0-a1f2-4098-cc9b-d425826b47f0"
   },
   "outputs": [
    {
     "data": {
      "text/plain": [
       "Index(['gender', 'ever_married', 'work_type', 'Residence_type',\n",
       "       'smoking_status'],\n",
       "      dtype='object')"
      ]
     },
     "execution_count": 13,
     "metadata": {},
     "output_type": "execute_result"
    }
   ],
   "source": [
    "st_cat.columns"
   ]
  },
  {
   "cell_type": "markdown",
   "metadata": {
    "id": "z52r1reJ2gtB"
   },
   "source": [
    "**Apply Label Encoder on Categorical Columns**"
   ]
  },
  {
   "cell_type": "code",
   "execution_count": 14,
   "metadata": {
    "id": "DAnyw1jsSKC2"
   },
   "outputs": [],
   "source": [
    "from sklearn.preprocessing import LabelEncoder\n",
    "column=st_cat.columns\n",
    "for c in column:\n",
    "  le=LabelEncoder()\n",
    "  st_cat[c]=le.fit_transform(st_cat[c])"
   ]
  },
  {
   "cell_type": "markdown",
   "metadata": {
    "id": "K9bAqDel2pnW"
   },
   "source": [
    "**Concat Categorical & Numerical Columns**"
   ]
  },
  {
   "cell_type": "code",
   "execution_count": 15,
   "metadata": {
    "colab": {
     "base_uri": "https://localhost:8080/",
     "height": 270
    },
    "executionInfo": {
     "elapsed": 13,
     "status": "ok",
     "timestamp": 1656337873497,
     "user": {
      "displayName": "sonal gawande",
      "userId": "06526542575482993508"
     },
     "user_tz": -330
    },
    "id": "wEuaTmOkSKGN",
    "outputId": "20b646ea-7689-41cc-afd8-d9df69058f89"
   },
   "outputs": [
    {
     "data": {
      "text/html": [
       "<div>\n",
       "<style scoped>\n",
       "    .dataframe tbody tr th:only-of-type {\n",
       "        vertical-align: middle;\n",
       "    }\n",
       "\n",
       "    .dataframe tbody tr th {\n",
       "        vertical-align: top;\n",
       "    }\n",
       "\n",
       "    .dataframe thead th {\n",
       "        text-align: right;\n",
       "    }\n",
       "</style>\n",
       "<table border=\"1\" class=\"dataframe\">\n",
       "  <thead>\n",
       "    <tr style=\"text-align: right;\">\n",
       "      <th></th>\n",
       "      <th>gender</th>\n",
       "      <th>ever_married</th>\n",
       "      <th>work_type</th>\n",
       "      <th>Residence_type</th>\n",
       "      <th>smoking_status</th>\n",
       "      <th>age</th>\n",
       "      <th>hypertension</th>\n",
       "      <th>heart_disease</th>\n",
       "      <th>avg_glucose_level</th>\n",
       "      <th>bmi</th>\n",
       "      <th>stroke</th>\n",
       "    </tr>\n",
       "  </thead>\n",
       "  <tbody>\n",
       "    <tr>\n",
       "      <th>0</th>\n",
       "      <td>1</td>\n",
       "      <td>1</td>\n",
       "      <td>2</td>\n",
       "      <td>1</td>\n",
       "      <td>1</td>\n",
       "      <td>67.0</td>\n",
       "      <td>0</td>\n",
       "      <td>1</td>\n",
       "      <td>228.69</td>\n",
       "      <td>36.600000</td>\n",
       "      <td>1</td>\n",
       "    </tr>\n",
       "    <tr>\n",
       "      <th>1</th>\n",
       "      <td>0</td>\n",
       "      <td>1</td>\n",
       "      <td>3</td>\n",
       "      <td>0</td>\n",
       "      <td>2</td>\n",
       "      <td>61.0</td>\n",
       "      <td>0</td>\n",
       "      <td>0</td>\n",
       "      <td>202.21</td>\n",
       "      <td>28.893237</td>\n",
       "      <td>1</td>\n",
       "    </tr>\n",
       "    <tr>\n",
       "      <th>2</th>\n",
       "      <td>1</td>\n",
       "      <td>1</td>\n",
       "      <td>2</td>\n",
       "      <td>0</td>\n",
       "      <td>2</td>\n",
       "      <td>80.0</td>\n",
       "      <td>0</td>\n",
       "      <td>1</td>\n",
       "      <td>105.92</td>\n",
       "      <td>32.500000</td>\n",
       "      <td>1</td>\n",
       "    </tr>\n",
       "    <tr>\n",
       "      <th>3</th>\n",
       "      <td>0</td>\n",
       "      <td>1</td>\n",
       "      <td>2</td>\n",
       "      <td>1</td>\n",
       "      <td>3</td>\n",
       "      <td>49.0</td>\n",
       "      <td>0</td>\n",
       "      <td>0</td>\n",
       "      <td>171.23</td>\n",
       "      <td>34.400000</td>\n",
       "      <td>1</td>\n",
       "    </tr>\n",
       "    <tr>\n",
       "      <th>4</th>\n",
       "      <td>0</td>\n",
       "      <td>1</td>\n",
       "      <td>3</td>\n",
       "      <td>0</td>\n",
       "      <td>2</td>\n",
       "      <td>79.0</td>\n",
       "      <td>1</td>\n",
       "      <td>0</td>\n",
       "      <td>174.12</td>\n",
       "      <td>24.000000</td>\n",
       "      <td>1</td>\n",
       "    </tr>\n",
       "  </tbody>\n",
       "</table>\n",
       "</div>"
      ],
      "text/plain": [
       "   gender  ever_married  work_type  Residence_type  smoking_status   age  \\\n",
       "0       1             1          2               1               1  67.0   \n",
       "1       0             1          3               0               2  61.0   \n",
       "2       1             1          2               0               2  80.0   \n",
       "3       0             1          2               1               3  49.0   \n",
       "4       0             1          3               0               2  79.0   \n",
       "\n",
       "   hypertension  heart_disease  avg_glucose_level        bmi  stroke  \n",
       "0             0              1             228.69  36.600000       1  \n",
       "1             0              0             202.21  28.893237       1  \n",
       "2             0              1             105.92  32.500000       1  \n",
       "3             0              0             171.23  34.400000       1  \n",
       "4             1              0             174.12  24.000000       1  "
      ]
     },
     "execution_count": 15,
     "metadata": {},
     "output_type": "execute_result"
    }
   ],
   "source": [
    "st=pd.concat([st_cat,st_num],axis=1)\n",
    "st.head()"
   ]
  },
  {
   "cell_type": "markdown",
   "metadata": {
    "id": "SDpl0Zs521i6"
   },
   "source": [
    "**Check whether Data is Balanced/Not**\n"
   ]
  },
  {
   "cell_type": "code",
   "execution_count": 16,
   "metadata": {
    "colab": {
     "base_uri": "https://localhost:8080/"
    },
    "executionInfo": {
     "elapsed": 13,
     "status": "ok",
     "timestamp": 1656337873498,
     "user": {
      "displayName": "sonal gawande",
      "userId": "06526542575482993508"
     },
     "user_tz": -330
    },
    "id": "3cXh4_8mO76w",
    "outputId": "bf294d2f-f468-4dfd-861c-cf619535e2f5"
   },
   "outputs": [
    {
     "data": {
      "text/plain": [
       "0    4861\n",
       "1     249\n",
       "Name: stroke, dtype: int64"
      ]
     },
     "execution_count": 16,
     "metadata": {},
     "output_type": "execute_result"
    }
   ],
   "source": [
    "st['stroke'].value_counts()"
   ]
  },
  {
   "cell_type": "markdown",
   "metadata": {
    "id": "rA4H_c9-3Bkf"
   },
   "source": [
    "***Visualise by Countplot***"
   ]
  },
  {
   "cell_type": "code",
   "execution_count": 17,
   "metadata": {
    "colab": {
     "base_uri": "https://localhost:8080/",
     "height": 279
    },
    "executionInfo": {
     "elapsed": 12,
     "status": "ok",
     "timestamp": 1656337873499,
     "user": {
      "displayName": "sonal gawande",
      "userId": "06526542575482993508"
     },
     "user_tz": -330
    },
    "id": "rgC6mwXyQ9Oi",
    "outputId": "e29608b7-1e45-402a-bcf3-f769a74f73b9"
   },
   "outputs": [
    {
     "data": {
      "image/png": "[encoded data removed]",
      "text/plain": [
       "<Figure size 432x288 with 1 Axes>"
      ]
     },
     "metadata": {
      "needs_background": "light"
     },
     "output_type": "display_data"
    }
   ],
   "source": [
    "sns.countplot(data=st,x='stroke')\n",
    "plt.show()"
   ]
  },
  {
   "cell_type": "markdown",
   "metadata": {
    "id": "SVzMBA7LevqE"
   },
   "source": [
    "**<u>CONCLUSION</u>**: As we can clearly see data is imbalance.First we split dataset in 70%-30% ,\n",
    "\n",
    "apply standard scaler to get data in same unit and then we will apply Random Over Sampler \n",
    "\n",
    "on output training and testing data to balance dataset."
   ]
  },
  {
   "cell_type": "markdown",
   "metadata": {
    "id": "8szWQ3Jo4Ngw"
   },
   "source": [
    "**Select Input & Output**"
   ]
  },
  {
   "cell_type": "code",
   "execution_count": 18,
   "metadata": {
    "id": "EEWTczucU9zZ"
   },
   "outputs": [],
   "source": [
    "x=st.drop('stroke',axis=1)\n",
    "y=st['stroke']"
   ]
  },
  {
   "cell_type": "markdown",
   "metadata": {
    "id": "HntYZHEy4WpF"
   },
   "source": [
    "***Split the Data into 70% and 30%***\n"
   ]
  },
  {
   "cell_type": "code",
   "execution_count": 19,
   "metadata": {
    "id": "zlrdpTJfVX8e"
   },
   "outputs": [],
   "source": [
    "from sklearn.model_selection import train_test_split\n",
    "x_train,x_test,y_train,y_test=train_test_split(x,y,test_size=.3,random_state=1)"
   ]
  },
  {
   "cell_type": "markdown",
   "metadata": {
    "id": "XIB4BLae4j77"
   },
   "source": [
    "**Apply Scaling**"
   ]
  },
  {
   "cell_type": "code",
   "execution_count": 20,
   "metadata": {
    "id": "O3yBkmDaVhrG"
   },
   "outputs": [],
   "source": [
    "from sklearn.preprocessing import StandardScaler\n",
    "ss=StandardScaler()\n",
    "x_train=ss.fit_transform(x_train)\n",
    "x_test=ss.transform(x_test)"
   ]
  },
  {
   "cell_type": "markdown",
   "metadata": {
    "id": "Ct5s9LpbhGeU"
   },
   "source": [
    "**Apply Over Sampling to Balance the Dataset**"
   ]
  },
  {
   "cell_type": "code",
   "execution_count": 21,
   "metadata": {
    "id": "Nx7ZHSZNVX_P"
   },
   "outputs": [],
   "source": [
    "from imblearn.over_sampling import RandomOverSampler\n",
    "ros=RandomOverSampler(random_state=1)"
   ]
  },
  {
   "cell_type": "markdown",
   "metadata": {
    "id": "Gt-EAHm_fzkt"
   },
   "source": [
    "**Over Sampling on Training Data**"
   ]
  },
  {
   "cell_type": "code",
   "execution_count": 22,
   "metadata": {
    "id": "AdgrDfy_VYB3"
   },
   "outputs": [],
   "source": [
    "x_train_ros,y_train_ros=ros.fit_resample(x_train,y_train)"
   ]
  },
  {
   "cell_type": "markdown",
   "metadata": {
    "id": "tDWsUa9ajZ1o"
   },
   "source": [
    "**After applying Over Sampling**"
   ]
  },
  {
   "cell_type": "code",
   "execution_count": 23,
   "metadata": {
    "colab": {
     "base_uri": "https://localhost:8080/"
    },
    "executionInfo": {
     "elapsed": 17,
     "status": "ok",
     "timestamp": 1656337874404,
     "user": {
      "displayName": "sonal gawande",
      "userId": "06526542575482993508"
     },
     "user_tz": -330
    },
    "id": "E02qq8fmVYEp",
    "outputId": "d2a5ca79-c1c2-4a4d-f522-e980d92e9752"
   },
   "outputs": [
    {
     "data": {
      "text/plain": [
       "0    3411\n",
       "1    3411\n",
       "Name: stroke, dtype: int64"
      ]
     },
     "execution_count": 23,
     "metadata": {},
     "output_type": "execute_result"
    }
   ],
   "source": [
    "y_train_ros.value_counts()"
   ]
  },
  {
   "cell_type": "markdown",
   "metadata": {
    "id": "zIhs2d6pk_3q"
   },
   "source": [
    "**Over Sampling on Testing Data**"
   ]
  },
  {
   "cell_type": "code",
   "execution_count": 24,
   "metadata": {
    "colab": {
     "base_uri": "https://localhost:8080/"
    },
    "executionInfo": {
     "elapsed": 16,
     "status": "ok",
     "timestamp": 1656337874404,
     "user": {
      "displayName": "sonal gawande",
      "userId": "06526542575482993508"
     },
     "user_tz": -330
    },
    "id": "Mj1HvvuVVYHo",
    "outputId": "c7776f28-9d99-4ecc-9e1e-15404b6453c7"
   },
   "outputs": [
    {
     "data": {
      "text/plain": [
       "0    1450\n",
       "1      83\n",
       "Name: stroke, dtype: int64"
      ]
     },
     "execution_count": 24,
     "metadata": {},
     "output_type": "execute_result"
    }
   ],
   "source": [
    "y_test.value_counts()"
   ]
  },
  {
   "cell_type": "code",
   "execution_count": 25,
   "metadata": {
    "id": "VTqDUTKJVYK5"
   },
   "outputs": [],
   "source": [
    "x_test_ros,y_test_ros=ros.fit_resample(x_test,y_test)"
   ]
  },
  {
   "cell_type": "code",
   "execution_count": 26,
   "metadata": {
    "colab": {
     "base_uri": "https://localhost:8080/"
    },
    "executionInfo": {
     "elapsed": 14,
     "status": "ok",
     "timestamp": 1656337874405,
     "user": {
      "displayName": "sonal gawande",
      "userId": "06526542575482993508"
     },
     "user_tz": -330
    },
    "id": "2pQOxHNRSFrC",
    "outputId": "f9cfbe3f-56bf-474a-8512-3d08a01bec74"
   },
   "outputs": [
    {
     "data": {
      "text/plain": [
       "0    1450\n",
       "1    1450\n",
       "Name: stroke, dtype: int64"
      ]
     },
     "execution_count": 26,
     "metadata": {},
     "output_type": "execute_result"
    }
   ],
   "source": [
    "y_test_ros.value_counts()"
   ]
  },
  {
   "cell_type": "markdown",
   "metadata": {
    "id": "5O5drXpNlMWg"
   },
   "source": [
    "***Create function to Find Predicted value,Classification Report,Confusion Matrix***"
   ]
  },
  {
   "cell_type": "code",
   "execution_count": 27,
   "metadata": {
    "id": "OZWssxssSFzx"
   },
   "outputs": [],
   "source": [
    "from sklearn.metrics import classification_report,confusion_matrix\n",
    "\n",
    "def stroke(obj):\n",
    "  obj.fit(x_train_ros,y_train_ros)\n",
    "  y_pred=obj.predict(x_test_ros)\n",
    "  print(classification_report(y_test_ros,y_pred))\n",
    "  print(confusion_matrix(y_test_ros,y_pred))\n",
    "  return obj"
   ]
  },
  {
   "cell_type": "markdown",
   "metadata": {
    "id": "h0qkVL2qgbZL"
   },
   "source": [
    "We created function which will work on each algorithm,we just import different\n",
    "\n",
    " algorithms, create object and pass that object in our function."
   ]
  },
  {
   "cell_type": "markdown",
   "metadata": {
    "id": "0aP9F5VQluN6"
   },
   "source": [
    "# ***Modelling***\n",
    "\n",
    "**1.Logistic Regression**"
   ]
  },
  {
   "cell_type": "code",
   "execution_count": 28,
   "metadata": {
    "colab": {
     "base_uri": "https://localhost:8080/"
    },
    "executionInfo": {
     "elapsed": 13,
     "status": "ok",
     "timestamp": 1656337874406,
     "user": {
      "displayName": "sonal gawande",
      "userId": "06526542575482993508"
     },
     "user_tz": -330
    },
    "id": "2daNMgMmSF2e",
    "outputId": "95bae35b-3fe9-46fe-fb92-dceaa1be9ef2"
   },
   "outputs": [
    {
     "name": "stdout",
     "output_type": "stream",
     "text": [
      "              precision    recall  f1-score   support\n",
      "\n",
      "           0       0.82      0.72      0.77      1450\n",
      "           1       0.75      0.85      0.80      1450\n",
      "\n",
      "    accuracy                           0.78      2900\n",
      "   macro avg       0.79      0.78      0.78      2900\n",
      "weighted avg       0.79      0.78      0.78      2900\n",
      "\n",
      "[[1048  402]\n",
      " [ 223 1227]]\n"
     ]
    }
   ],
   "source": [
    "from sklearn.linear_model import LogisticRegression\n",
    "lr=LogisticRegression()\n",
    "lr=stroke(lr)"
   ]
  },
  {
   "cell_type": "markdown",
   "metadata": {
    "id": "THObpDjMmEJZ"
   },
   "source": [
    "**2.Decision Tree Classifier**  \n",
    "\n",
    "**a)Gini**"
   ]
  },
  {
   "cell_type": "code",
   "execution_count": 29,
   "metadata": {
    "colab": {
     "base_uri": "https://localhost:8080/"
    },
    "executionInfo": {
     "elapsed": 11,
     "status": "ok",
     "timestamp": 1656337874406,
     "user": {
      "displayName": "sonal gawande",
      "userId": "06526542575482993508"
     },
     "user_tz": -330
    },
    "id": "vFW-GI1FSF5D",
    "outputId": "a39b7367-f81a-476b-ef9b-103c0e302630"
   },
   "outputs": [
    {
     "name": "stdout",
     "output_type": "stream",
     "text": [
      "              precision    recall  f1-score   support\n",
      "\n",
      "           0       0.52      0.97      0.68      1450\n",
      "           1       0.79      0.12      0.21      1450\n",
      "\n",
      "    accuracy                           0.55      2900\n",
      "   macro avg       0.66      0.55      0.45      2900\n",
      "weighted avg       0.66      0.55      0.45      2900\n",
      "\n",
      "[[1404   46]\n",
      " [1272  178]]\n"
     ]
    }
   ],
   "source": [
    "from sklearn.tree import DecisionTreeClassifier\n",
    "dt=DecisionTreeClassifier(random_state=1)\n",
    "dt=stroke(dt)"
   ]
  },
  {
   "cell_type": "markdown",
   "metadata": {
    "id": "hfLhv6LomTQm"
   },
   "source": [
    "**b)Entropy**"
   ]
  },
  {
   "cell_type": "code",
   "execution_count": 30,
   "metadata": {
    "colab": {
     "base_uri": "https://localhost:8080/"
    },
    "executionInfo": {
     "elapsed": 408,
     "status": "ok",
     "timestamp": 1656337874805,
     "user": {
      "displayName": "sonal gawande",
      "userId": "06526542575482993508"
     },
     "user_tz": -330
    },
    "id": "baZ7C7e6SF8l",
    "outputId": "d75f3cae-999f-4fdb-e4aa-b515fa7f8691"
   },
   "outputs": [
    {
     "name": "stdout",
     "output_type": "stream",
     "text": [
      "              precision    recall  f1-score   support\n",
      "\n",
      "           0       0.54      0.96      0.69      1450\n",
      "           1       0.82      0.16      0.27      1450\n",
      "\n",
      "    accuracy                           0.56      2900\n",
      "   macro avg       0.68      0.56      0.48      2900\n",
      "weighted avg       0.68      0.56      0.48      2900\n",
      "\n",
      "[[1399   51]\n",
      " [1212  238]]\n"
     ]
    }
   ],
   "source": [
    "dt=DecisionTreeClassifier(random_state=1,criterion='entropy')\n",
    "dt=stroke(dt)"
   ]
  },
  {
   "cell_type": "markdown",
   "metadata": {
    "id": "xW4rsqTQwlO5"
   },
   "source": [
    "**<u>CONCLUSION</u>**:\n",
    "Scores by Decision Tree Classifier are not good. So we apply\n",
    "\n",
    " pruning technique to check whether model is overfit/not."
   ]
  },
  {
   "cell_type": "markdown",
   "metadata": {
    "id": "xsNhVlwFmZBc"
   },
   "source": [
    "<br>**Pruning Technique** \n",
    "\n",
    "**3.Max depth    \n",
    "a)Gini**"
   ]
  },
  {
   "cell_type": "code",
   "execution_count": 31,
   "metadata": {
    "colab": {
     "base_uri": "https://localhost:8080/"
    },
    "executionInfo": {
     "elapsed": 8,
     "status": "ok",
     "timestamp": 1656337874808,
     "user": {
      "displayName": "sonal gawande",
      "userId": "06526542575482993508"
     },
     "user_tz": -330
    },
    "id": "cahpaKjnRJDd",
    "outputId": "97906c04-f8af-418c-f262-6a149d449b43"
   },
   "outputs": [
    {
     "name": "stdout",
     "output_type": "stream",
     "text": [
      "              precision    recall  f1-score   support\n",
      "\n",
      "           0       0.78      0.74      0.76      1450\n",
      "           1       0.76      0.80      0.78      1450\n",
      "\n",
      "    accuracy                           0.77      2900\n",
      "   macro avg       0.77      0.77      0.77      2900\n",
      "weighted avg       0.77      0.77      0.77      2900\n",
      "\n",
      "[[1079  371]\n",
      " [ 297 1153]]\n"
     ]
    }
   ],
   "source": [
    "dt=DecisionTreeClassifier(random_state=1,max_depth=4)\n",
    "dt=stroke(dt)"
   ]
  },
  {
   "cell_type": "markdown",
   "metadata": {
    "id": "5mjMfVzxpgO7"
   },
   "source": [
    "**Information Gain/Important Features**"
   ]
  },
  {
   "cell_type": "code",
   "execution_count": 32,
   "metadata": {
    "colab": {
     "base_uri": "https://localhost:8080/",
     "height": 363
    },
    "executionInfo": {
     "elapsed": 6,
     "status": "ok",
     "timestamp": 1656337874808,
     "user": {
      "displayName": "sonal gawande",
      "userId": "06526542575482993508"
     },
     "user_tz": -330
    },
    "id": "uXVrD6Alpgnq",
    "outputId": "abe23e80-cad6-4aec-f8ab-3b7dcabfe45e"
   },
   "outputs": [
    {
     "data": {
      "text/html": [
       "<div>\n",
       "<style scoped>\n",
       "    .dataframe tbody tr th:only-of-type {\n",
       "        vertical-align: middle;\n",
       "    }\n",
       "\n",
       "    .dataframe tbody tr th {\n",
       "        vertical-align: top;\n",
       "    }\n",
       "\n",
       "    .dataframe thead th {\n",
       "        text-align: right;\n",
       "    }\n",
       "</style>\n",
       "<table border=\"1\" class=\"dataframe\">\n",
       "  <thead>\n",
       "    <tr style=\"text-align: right;\">\n",
       "      <th></th>\n",
       "      <th>Input</th>\n",
       "      <th>ig</th>\n",
       "    </tr>\n",
       "  </thead>\n",
       "  <tbody>\n",
       "    <tr>\n",
       "      <th>5</th>\n",
       "      <td>age</td>\n",
       "      <td>0.837789</td>\n",
       "    </tr>\n",
       "    <tr>\n",
       "      <th>9</th>\n",
       "      <td>bmi</td>\n",
       "      <td>0.089239</td>\n",
       "    </tr>\n",
       "    <tr>\n",
       "      <th>8</th>\n",
       "      <td>avg_glucose_level</td>\n",
       "      <td>0.061501</td>\n",
       "    </tr>\n",
       "    <tr>\n",
       "      <th>1</th>\n",
       "      <td>ever_married</td>\n",
       "      <td>0.007924</td>\n",
       "    </tr>\n",
       "    <tr>\n",
       "      <th>3</th>\n",
       "      <td>Residence_type</td>\n",
       "      <td>0.003547</td>\n",
       "    </tr>\n",
       "    <tr>\n",
       "      <th>0</th>\n",
       "      <td>gender</td>\n",
       "      <td>0.000000</td>\n",
       "    </tr>\n",
       "    <tr>\n",
       "      <th>2</th>\n",
       "      <td>work_type</td>\n",
       "      <td>0.000000</td>\n",
       "    </tr>\n",
       "    <tr>\n",
       "      <th>4</th>\n",
       "      <td>smoking_status</td>\n",
       "      <td>0.000000</td>\n",
       "    </tr>\n",
       "    <tr>\n",
       "      <th>6</th>\n",
       "      <td>hypertension</td>\n",
       "      <td>0.000000</td>\n",
       "    </tr>\n",
       "    <tr>\n",
       "      <th>7</th>\n",
       "      <td>heart_disease</td>\n",
       "      <td>0.000000</td>\n",
       "    </tr>\n",
       "  </tbody>\n",
       "</table>\n",
       "</div>"
      ],
      "text/plain": [
       "               Input        ig\n",
       "5                age  0.837789\n",
       "9                bmi  0.089239\n",
       "8  avg_glucose_level  0.061501\n",
       "1       ever_married  0.007924\n",
       "3     Residence_type  0.003547\n",
       "0             gender  0.000000\n",
       "2          work_type  0.000000\n",
       "4     smoking_status  0.000000\n",
       "6       hypertension  0.000000\n",
       "7      heart_disease  0.000000"
      ]
     },
     "execution_count": 32,
     "metadata": {},
     "output_type": "execute_result"
    }
   ],
   "source": [
    "ig=dt.feature_importances_\n",
    "d={'Input':x.columns,'ig':ig}\n",
    "df=pd.DataFrame(d)\n",
    "df.sort_values('ig',ascending=False)"
   ]
  },
  {
   "cell_type": "markdown",
   "metadata": {
    "id": "Hd2kf_-AwXqo"
   },
   "source": [
    "**Visualize by Tree diagram**\n"
   ]
  },
  {
   "cell_type": "code",
   "execution_count": 33,
   "metadata": {
    "colab": {
     "base_uri": "https://localhost:8080/",
     "height": 1000
    },
    "executionInfo": {
     "elapsed": 2400,
     "status": "ok",
     "timestamp": 1656337877202,
     "user": {
      "displayName": "sonal gawande",
      "userId": "06526542575482993508"
     },
     "user_tz": -330
    },
    "id": "R3AWlt2iqVJR",
    "outputId": "554a360a-1e3a-4598-eb40-227193087f75"
   },
   "outputs": [
    {
     "data": {
      "image/png": "[encoded data removed]",
      "text/plain": [
       "<Figure size 1440x1440 with 1 Axes>"
      ]
     },
     "metadata": {
      "needs_background": "light"
     },
     "output_type": "display_data"
    }
   ],
   "source": [
    "from sklearn import tree\n",
    "feature=x.columns\n",
    "fig=plt.figure(figsize=(20,20))\n",
    "_=tree.plot_tree(dt,filled=True,feature_names=feature)\n",
    "plt.show()"
   ]
  },
  {
   "cell_type": "markdown",
   "metadata": {
    "id": "mC_EmZeGmlgq"
   },
   "source": [
    "**3.Max depth**\n",
    "\n",
    "**b)Entropy**"
   ]
  },
  {
   "cell_type": "code",
   "execution_count": 34,
   "metadata": {
    "colab": {
     "base_uri": "https://localhost:8080/"
    },
    "executionInfo": {
     "elapsed": 12,
     "status": "ok",
     "timestamp": 1656337877203,
     "user": {
      "displayName": "sonal gawande",
      "userId": "06526542575482993508"
     },
     "user_tz": -330
    },
    "id": "_69HvnooR_BR",
    "outputId": "c1100106-e113-432c-f140-dae8ed84d8f4"
   },
   "outputs": [
    {
     "name": "stdout",
     "output_type": "stream",
     "text": [
      "              precision    recall  f1-score   support\n",
      "\n",
      "           0       0.77      0.75      0.76      1450\n",
      "           1       0.76      0.78      0.77      1450\n",
      "\n",
      "    accuracy                           0.76      2900\n",
      "   macro avg       0.76      0.76      0.76      2900\n",
      "weighted avg       0.76      0.76      0.76      2900\n",
      "\n",
      "[[1085  365]\n",
      " [ 322 1128]]\n"
     ]
    }
   ],
   "source": [
    "dt=DecisionTreeClassifier(random_state=1,max_depth=5,criterion='entropy')\n",
    "dt=stroke(dt)"
   ]
  },
  {
   "cell_type": "markdown",
   "metadata": {
    "id": "c_hmO0qCn06Q"
   },
   "source": [
    "<br>**4.Min Samples Leaf**\n",
    "\n",
    "**a)Gini**"
   ]
  },
  {
   "cell_type": "code",
   "execution_count": 35,
   "metadata": {
    "colab": {
     "base_uri": "https://localhost:8080/"
    },
    "executionInfo": {
     "elapsed": 9,
     "status": "ok",
     "timestamp": 1656337877203,
     "user": {
      "displayName": "sonal gawande",
      "userId": "06526542575482993508"
     },
     "user_tz": -330
    },
    "id": "zV8tsiFXoDOm",
    "outputId": "24b421e6-a85f-4c06-884c-2dc3dc7ded29"
   },
   "outputs": [
    {
     "name": "stdout",
     "output_type": "stream",
     "text": [
      "              precision    recall  f1-score   support\n",
      "\n",
      "           0       0.72      0.76      0.73      1450\n",
      "           1       0.74      0.70      0.72      1450\n",
      "\n",
      "    accuracy                           0.73      2900\n",
      "   macro avg       0.73      0.73      0.73      2900\n",
      "weighted avg       0.73      0.73      0.73      2900\n",
      "\n",
      "[[1095  355]\n",
      " [ 435 1015]]\n"
     ]
    }
   ],
   "source": [
    "dt=DecisionTreeClassifier(random_state=1,min_samples_leaf=80)\n",
    "dt=stroke(dt)"
   ]
  },
  {
   "cell_type": "markdown",
   "metadata": {
    "id": "Eoaeymd3nZDB"
   },
   "source": [
    "<br>**4.Min Samples Leaf**\n",
    "\n",
    "**b)Entropy**"
   ]
  },
  {
   "cell_type": "code",
   "execution_count": 36,
   "metadata": {
    "colab": {
     "base_uri": "https://localhost:8080/"
    },
    "executionInfo": {
     "elapsed": 8,
     "status": "ok",
     "timestamp": 1656337877204,
     "user": {
      "displayName": "sonal gawande",
      "userId": "06526542575482993508"
     },
     "user_tz": -330
    },
    "id": "YTH0F5A0odcG",
    "outputId": "d9e52dd0-54f3-4285-c989-51d7ea739d7e"
   },
   "outputs": [
    {
     "name": "stdout",
     "output_type": "stream",
     "text": [
      "              precision    recall  f1-score   support\n",
      "\n",
      "           0       0.71      0.74      0.73      1450\n",
      "           1       0.73      0.70      0.71      1450\n",
      "\n",
      "    accuracy                           0.72      2900\n",
      "   macro avg       0.72      0.72      0.72      2900\n",
      "weighted avg       0.72      0.72      0.72      2900\n",
      "\n",
      "[[1074  376]\n",
      " [ 436 1014]]\n"
     ]
    }
   ],
   "source": [
    "dt=DecisionTreeClassifier(random_state=1,min_samples_leaf=72,criterion='entropy')\n",
    "dt=stroke(dt)"
   ]
  },
  {
   "cell_type": "markdown",
   "metadata": {
    "id": "iX9qpL06wHSi"
   },
   "source": [
    "**Information Gain/Important Features**"
   ]
  },
  {
   "cell_type": "code",
   "execution_count": 37,
   "metadata": {
    "colab": {
     "base_uri": "https://localhost:8080/",
     "height": 363
    },
    "executionInfo": {
     "elapsed": 8,
     "status": "ok",
     "timestamp": 1656337877865,
     "user": {
      "displayName": "sonal gawande",
      "userId": "06526542575482993508"
     },
     "user_tz": -330
    },
    "id": "csCLe0kbttcw",
    "outputId": "5744417c-75c2-4555-9195-0e3e1a8737d9"
   },
   "outputs": [
    {
     "data": {
      "text/html": [
       "<div>\n",
       "<style scoped>\n",
       "    .dataframe tbody tr th:only-of-type {\n",
       "        vertical-align: middle;\n",
       "    }\n",
       "\n",
       "    .dataframe tbody tr th {\n",
       "        vertical-align: top;\n",
       "    }\n",
       "\n",
       "    .dataframe thead th {\n",
       "        text-align: right;\n",
       "    }\n",
       "</style>\n",
       "<table border=\"1\" class=\"dataframe\">\n",
       "  <thead>\n",
       "    <tr style=\"text-align: right;\">\n",
       "      <th></th>\n",
       "      <th>input</th>\n",
       "      <th>ig</th>\n",
       "    </tr>\n",
       "  </thead>\n",
       "  <tbody>\n",
       "    <tr>\n",
       "      <th>5</th>\n",
       "      <td>age</td>\n",
       "      <td>0.592244</td>\n",
       "    </tr>\n",
       "    <tr>\n",
       "      <th>8</th>\n",
       "      <td>avg_glucose_level</td>\n",
       "      <td>0.151261</td>\n",
       "    </tr>\n",
       "    <tr>\n",
       "      <th>9</th>\n",
       "      <td>bmi</td>\n",
       "      <td>0.145090</td>\n",
       "    </tr>\n",
       "    <tr>\n",
       "      <th>3</th>\n",
       "      <td>Residence_type</td>\n",
       "      <td>0.029925</td>\n",
       "    </tr>\n",
       "    <tr>\n",
       "      <th>2</th>\n",
       "      <td>work_type</td>\n",
       "      <td>0.026492</td>\n",
       "    </tr>\n",
       "    <tr>\n",
       "      <th>0</th>\n",
       "      <td>gender</td>\n",
       "      <td>0.017608</td>\n",
       "    </tr>\n",
       "    <tr>\n",
       "      <th>7</th>\n",
       "      <td>heart_disease</td>\n",
       "      <td>0.015757</td>\n",
       "    </tr>\n",
       "    <tr>\n",
       "      <th>1</th>\n",
       "      <td>ever_married</td>\n",
       "      <td>0.008046</td>\n",
       "    </tr>\n",
       "    <tr>\n",
       "      <th>4</th>\n",
       "      <td>smoking_status</td>\n",
       "      <td>0.007108</td>\n",
       "    </tr>\n",
       "    <tr>\n",
       "      <th>6</th>\n",
       "      <td>hypertension</td>\n",
       "      <td>0.006471</td>\n",
       "    </tr>\n",
       "  </tbody>\n",
       "</table>\n",
       "</div>"
      ],
      "text/plain": [
       "               input        ig\n",
       "5                age  0.592244\n",
       "8  avg_glucose_level  0.151261\n",
       "9                bmi  0.145090\n",
       "3     Residence_type  0.029925\n",
       "2          work_type  0.026492\n",
       "0             gender  0.017608\n",
       "7      heart_disease  0.015757\n",
       "1       ever_married  0.008046\n",
       "4     smoking_status  0.007108\n",
       "6       hypertension  0.006471"
      ]
     },
     "execution_count": 37,
     "metadata": {},
     "output_type": "execute_result"
    }
   ],
   "source": [
    "ig=dt.feature_importances_\n",
    "d1={'input':x.columns,'ig':ig}\n",
    "df1=pd.DataFrame(d1)\n",
    "df1.sort_values('ig',ascending=False)"
   ]
  },
  {
   "cell_type": "markdown",
   "metadata": {
    "id": "YK_HehZIwNOX"
   },
   "source": [
    "**Visualize by Tree diagram**\n"
   ]
  },
  {
   "cell_type": "code",
   "execution_count": 38,
   "metadata": {
    "colab": {
     "base_uri": "https://localhost:8080/",
     "height": 1000
    },
    "executionInfo": {
     "elapsed": 6120,
     "status": "ok",
     "timestamp": 1656337883979,
     "user": {
      "displayName": "sonal gawande",
      "userId": "06526542575482993508"
     },
     "user_tz": -330
    },
    "id": "nYWwNlTrt0lR",
    "outputId": "6d8dd5b0-cea4-4d56-a262-d321d9722d60"
   },
   "outputs": [
    {
     "data": {
      "image/png": "[encoded data removed]",
      "text/plain": [
       "<Figure size 1440x1440 with 1 Axes>"
      ]
     },
     "metadata": {
      "needs_background": "light"
     },
     "output_type": "display_data"
    }
   ],
   "source": [
    "from sklearn import tree\n",
    "feature=x.columns\n",
    "fig=plt.figure(figsize=(20,20))\n",
    "_=tree.plot_tree(dt,filled=True,feature_names=feature)\n",
    "plt.show()"
   ]
  },
  {
   "cell_type": "markdown",
   "metadata": {
    "id": "qELURp1gns7Z"
   },
   "source": [
    "**<u>ENSEMBLING TECHNIQUE:</u>**\n",
    "\n",
    "**5.Random Forest Classifier**\n",
    "\n",
    "**a)Gini**"
   ]
  },
  {
   "cell_type": "code",
   "execution_count": 39,
   "metadata": {
    "colab": {
     "base_uri": "https://localhost:8080/"
    },
    "executionInfo": {
     "elapsed": 14,
     "status": "ok",
     "timestamp": 1656337883980,
     "user": {
      "displayName": "sonal gawande",
      "userId": "06526542575482993508"
     },
     "user_tz": -330
    },
    "id": "R8FIjxeeo_ks",
    "outputId": "3e489c69-0fda-4aaa-8cd9-5ea9c3d65ab8"
   },
   "outputs": [
    {
     "name": "stdout",
     "output_type": "stream",
     "text": [
      "              precision    recall  f1-score   support\n",
      "\n",
      "           0       0.56      0.95      0.70      1450\n",
      "           1       0.84      0.24      0.37      1450\n",
      "\n",
      "    accuracy                           0.60      2900\n",
      "   macro avg       0.70      0.60      0.54      2900\n",
      "weighted avg       0.70      0.60      0.54      2900\n",
      "\n",
      "[[1382   68]\n",
      " [1101  349]]\n"
     ]
    }
   ],
   "source": [
    "from sklearn.ensemble import RandomForestClassifier\n",
    "rfc=RandomForestClassifier(random_state=1,max_features=8,n_estimators=1)\n",
    "rfc=stroke(rfc)"
   ]
  },
  {
   "cell_type": "markdown",
   "metadata": {
    "id": "bhd0tjG8oPA5"
   },
   "source": [
    "<br>**5.Random Forest Classifier**\n",
    "\n",
    "**b)Entropy**"
   ]
  },
  {
   "cell_type": "code",
   "execution_count": 40,
   "metadata": {
    "colab": {
     "base_uri": "https://localhost:8080/"
    },
    "executionInfo": {
     "elapsed": 10,
     "status": "ok",
     "timestamp": 1656337883980,
     "user": {
      "displayName": "sonal gawande",
      "userId": "06526542575482993508"
     },
     "user_tz": -330
    },
    "id": "-AfPr88OqSRM",
    "outputId": "39e0d5d5-5ec9-41c1-bac4-5fe486372201"
   },
   "outputs": [
    {
     "name": "stdout",
     "output_type": "stream",
     "text": [
      "              precision    recall  f1-score   support\n",
      "\n",
      "           0       0.56      0.94      0.70      1450\n",
      "           1       0.81      0.27      0.40      1450\n",
      "\n",
      "    accuracy                           0.60      2900\n",
      "   macro avg       0.69      0.60      0.55      2900\n",
      "weighted avg       0.69      0.60      0.55      2900\n",
      "\n",
      "[[1360   90]\n",
      " [1063  387]]\n"
     ]
    }
   ],
   "source": [
    "rfc=RandomForestClassifier(random_state=1,max_features=9,n_estimators=1,criterion='entropy')\n",
    "rfc=stroke(rfc)"
   ]
  },
  {
   "cell_type": "markdown",
   "metadata": {
    "id": "iChH_UDMoT6a"
   },
   "source": [
    "<br>**6.Ada Boost Classifier(Adapter Boosting)**"
   ]
  },
  {
   "cell_type": "code",
   "execution_count": 41,
   "metadata": {
    "colab": {
     "base_uri": "https://localhost:8080/"
    },
    "executionInfo": {
     "elapsed": 9,
     "status": "ok",
     "timestamp": 1656337883981,
     "user": {
      "displayName": "sonal gawande",
      "userId": "06526542575482993508"
     },
     "user_tz": -330
    },
    "id": "coKjU_ugrTl-",
    "outputId": "c0627384-f635-4b4b-d041-b5697c3e89b3"
   },
   "outputs": [
    {
     "name": "stdout",
     "output_type": "stream",
     "text": [
      "              precision    recall  f1-score   support\n",
      "\n",
      "           0       0.90      0.57      0.70      1450\n",
      "           1       0.69      0.94      0.79      1450\n",
      "\n",
      "    accuracy                           0.76      2900\n",
      "   macro avg       0.80      0.76      0.75      2900\n",
      "weighted avg       0.80      0.76      0.75      2900\n",
      "\n",
      "[[ 833  617]\n",
      " [  90 1360]]\n"
     ]
    }
   ],
   "source": [
    "from sklearn.ensemble import AdaBoostClassifier\n",
    "ada=AdaBoostClassifier(random_state=1,n_estimators=3)\n",
    "ada=stroke(ada)"
   ]
  },
  {
   "cell_type": "markdown",
   "metadata": {
    "id": "nf2CTJFLocmK"
   },
   "source": [
    "<br>**7.Gradient Boost Classifier**"
   ]
  },
  {
   "cell_type": "code",
   "execution_count": 42,
   "metadata": {
    "colab": {
     "base_uri": "https://localhost:8080/"
    },
    "executionInfo": {
     "elapsed": 666,
     "status": "ok",
     "timestamp": 1656337884640,
     "user": {
      "displayName": "sonal gawande",
      "userId": "06526542575482993508"
     },
     "user_tz": -330
    },
    "id": "Jwds8IMtsOiT",
    "outputId": "dc051281-2a48-4e9a-be6a-11472d768e25"
   },
   "outputs": [
    {
     "name": "stdout",
     "output_type": "stream",
     "text": [
      "              precision    recall  f1-score   support\n",
      "\n",
      "           0       0.84      0.72      0.78      1450\n",
      "           1       0.76      0.87      0.81      1450\n",
      "\n",
      "    accuracy                           0.80      2900\n",
      "   macro avg       0.80      0.80      0.79      2900\n",
      "weighted avg       0.80      0.80      0.79      2900\n",
      "\n",
      "[[1050  400]\n",
      " [ 193 1257]]\n"
     ]
    }
   ],
   "source": [
    "from sklearn.ensemble import GradientBoostingClassifier\n",
    "gbc=GradientBoostingClassifier(random_state=1,n_estimators=12)\n",
    "gbc=stroke(gbc)"
   ]
  },
  {
   "cell_type": "markdown",
   "metadata": {
    "id": "p8hMoTRZC2Lr"
   },
   "source": [
    "<br>**Information Gain/Important Features**"
   ]
  },
  {
   "cell_type": "code",
   "execution_count": 43,
   "metadata": {
    "colab": {
     "base_uri": "https://localhost:8080/",
     "height": 363
    },
    "executionInfo": {
     "elapsed": 11,
     "status": "ok",
     "timestamp": 1656337884641,
     "user": {
      "displayName": "sonal gawande",
      "userId": "06526542575482993508"
     },
     "user_tz": -330
    },
    "id": "KStkspLrshXd",
    "outputId": "e4427812-2798-4952-dd68-04e748eaa6a9"
   },
   "outputs": [
    {
     "data": {
      "text/html": [
       "<div>\n",
       "<style scoped>\n",
       "    .dataframe tbody tr th:only-of-type {\n",
       "        vertical-align: middle;\n",
       "    }\n",
       "\n",
       "    .dataframe tbody tr th {\n",
       "        vertical-align: top;\n",
       "    }\n",
       "\n",
       "    .dataframe thead th {\n",
       "        text-align: right;\n",
       "    }\n",
       "</style>\n",
       "<table border=\"1\" class=\"dataframe\">\n",
       "  <thead>\n",
       "    <tr style=\"text-align: right;\">\n",
       "      <th></th>\n",
       "      <th>input</th>\n",
       "      <th>ig</th>\n",
       "    </tr>\n",
       "  </thead>\n",
       "  <tbody>\n",
       "    <tr>\n",
       "      <th>5</th>\n",
       "      <td>age</td>\n",
       "      <td>0.842172</td>\n",
       "    </tr>\n",
       "    <tr>\n",
       "      <th>9</th>\n",
       "      <td>bmi</td>\n",
       "      <td>0.080733</td>\n",
       "    </tr>\n",
       "    <tr>\n",
       "      <th>8</th>\n",
       "      <td>avg_glucose_level</td>\n",
       "      <td>0.050298</td>\n",
       "    </tr>\n",
       "    <tr>\n",
       "      <th>0</th>\n",
       "      <td>gender</td>\n",
       "      <td>0.008471</td>\n",
       "    </tr>\n",
       "    <tr>\n",
       "      <th>1</th>\n",
       "      <td>ever_married</td>\n",
       "      <td>0.008384</td>\n",
       "    </tr>\n",
       "    <tr>\n",
       "      <th>2</th>\n",
       "      <td>work_type</td>\n",
       "      <td>0.004974</td>\n",
       "    </tr>\n",
       "    <tr>\n",
       "      <th>4</th>\n",
       "      <td>smoking_status</td>\n",
       "      <td>0.004967</td>\n",
       "    </tr>\n",
       "    <tr>\n",
       "      <th>3</th>\n",
       "      <td>Residence_type</td>\n",
       "      <td>0.000000</td>\n",
       "    </tr>\n",
       "    <tr>\n",
       "      <th>6</th>\n",
       "      <td>hypertension</td>\n",
       "      <td>0.000000</td>\n",
       "    </tr>\n",
       "    <tr>\n",
       "      <th>7</th>\n",
       "      <td>heart_disease</td>\n",
       "      <td>0.000000</td>\n",
       "    </tr>\n",
       "  </tbody>\n",
       "</table>\n",
       "</div>"
      ],
      "text/plain": [
       "               input        ig\n",
       "5                age  0.842172\n",
       "9                bmi  0.080733\n",
       "8  avg_glucose_level  0.050298\n",
       "0             gender  0.008471\n",
       "1       ever_married  0.008384\n",
       "2          work_type  0.004974\n",
       "4     smoking_status  0.004967\n",
       "3     Residence_type  0.000000\n",
       "6       hypertension  0.000000\n",
       "7      heart_disease  0.000000"
      ]
     },
     "execution_count": 43,
     "metadata": {},
     "output_type": "execute_result"
    }
   ],
   "source": [
    "ig=gbc.feature_importances_\n",
    "d1={'input':x.columns,'ig':ig}\n",
    "df1=pd.DataFrame(d1)\n",
    "df1.sort_values('ig',ascending=False)"
   ]
  },
  {
   "cell_type": "markdown",
   "metadata": {
    "id": "U89rDNR-oguX"
   },
   "source": [
    "**8.XGB Classifier(Extreme Gradient Boost Classifier)**"
   ]
  },
  {
   "cell_type": "code",
   "execution_count": 44,
   "metadata": {
    "colab": {
     "base_uri": "https://localhost:8080/"
    },
    "executionInfo": {
     "elapsed": 11,
     "status": "ok",
     "timestamp": 1656337884643,
     "user": {
      "displayName": "sonal gawande",
      "userId": "06526542575482993508"
     },
     "user_tz": -330
    },
    "id": "rQzJlNvos63f",
    "outputId": "b9e36b05-c8ff-42c2-aa42-ffeb0fa6d6c2"
   },
   "outputs": [
    {
     "name": "stdout",
     "output_type": "stream",
     "text": [
      "              precision    recall  f1-score   support\n",
      "\n",
      "           0       0.59      0.90      0.71      1450\n",
      "           1       0.79      0.36      0.50      1450\n",
      "\n",
      "    accuracy                           0.63      2900\n",
      "   macro avg       0.69      0.63      0.60      2900\n",
      "weighted avg       0.69      0.63      0.60      2900\n",
      "\n",
      "[[1311  139]\n",
      " [ 927  523]]\n"
     ]
    }
   ],
   "source": [
    "from xgboost import XGBClassifier\n",
    "xgb=XGBClassifier(random_state=1,n_estimators=27)\n",
    "xgb=stroke(xgb)"
   ]
  },
  {
   "cell_type": "markdown",
   "metadata": {
    "id": "8XX_ghc0omsX"
   },
   "source": [
    "<br>**<u>SUPPORT VECTOR MACHINE(SVM)</u>**\n",
    "\n",
    "**9.Linear Support Vector Classifier(LinearSVC)**"
   ]
  },
  {
   "cell_type": "code",
   "execution_count": 45,
   "metadata": {
    "colab": {
     "base_uri": "https://localhost:8080/"
    },
    "executionInfo": {
     "elapsed": 9,
     "status": "ok",
     "timestamp": 1656337884643,
     "user": {
      "displayName": "sonal gawande",
      "userId": "06526542575482993508"
     },
     "user_tz": -330
    },
    "id": "5nWAulIbtxeU",
    "outputId": "536a0062-30ae-4f00-a8f4-96d20ec09ae3"
   },
   "outputs": [
    {
     "name": "stdout",
     "output_type": "stream",
     "text": [
      "              precision    recall  f1-score   support\n",
      "\n",
      "           0       0.82      0.72      0.77      1450\n",
      "           1       0.75      0.85      0.79      1450\n",
      "\n",
      "    accuracy                           0.78      2900\n",
      "   macro avg       0.79      0.78      0.78      2900\n",
      "weighted avg       0.79      0.78      0.78      2900\n",
      "\n",
      "[[1038  412]\n",
      " [ 223 1227]]\n"
     ]
    }
   ],
   "source": [
    "from sklearn.svm import LinearSVC\n",
    "svc=LinearSVC(random_state=1)\n",
    "svc=stroke(svc)"
   ]
  },
  {
   "cell_type": "markdown",
   "metadata": {
    "id": "56RMvTfREiRQ"
   },
   "source": [
    "<br>**10.Linear Support Vector Classifier**\n",
    "\n",
    "***After adding error***"
   ]
  },
  {
   "cell_type": "code",
   "execution_count": 46,
   "metadata": {
    "colab": {
     "base_uri": "https://localhost:8080/"
    },
    "executionInfo": {
     "elapsed": 495,
     "status": "ok",
     "timestamp": 1656337885130,
     "user": {
      "displayName": "sonal gawande",
      "userId": "06526542575482993508"
     },
     "user_tz": -330
    },
    "id": "B1KHXeQuvIUX",
    "outputId": "a150c471-d354-46b1-99ea-5c27fa7740a1"
   },
   "outputs": [
    {
     "name": "stdout",
     "output_type": "stream",
     "text": [
      "              precision    recall  f1-score   support\n",
      "\n",
      "           0       0.82      0.72      0.77      1450\n",
      "           1       0.75      0.85      0.79      1450\n",
      "\n",
      "    accuracy                           0.78      2900\n",
      "   macro avg       0.79      0.78      0.78      2900\n",
      "weighted avg       0.79      0.78      0.78      2900\n",
      "\n",
      "[[1038  412]\n",
      " [ 223 1227]]\n"
     ]
    }
   ],
   "source": [
    "svc1=LinearSVC(random_state=1,C=.1)   \n",
    "svc1=stroke(svc1)"
   ]
  },
  {
   "cell_type": "markdown",
   "metadata": {
    "id": "R7opljeCHM3U"
   },
   "source": [
    "**<u>CONCLUSION</u>**:There is no change in score as per C. Which means the data \n",
    "\n",
    "is not linearly separating i.e. the dataset is non-linear.\n"
   ]
  },
  {
   "cell_type": "markdown",
   "metadata": {
    "id": "nm-wCTAdE-fK"
   },
   "source": [
    "<br>**11.SVC Polynomial Kernel Function**"
   ]
  },
  {
   "cell_type": "code",
   "execution_count": 47,
   "metadata": {
    "colab": {
     "base_uri": "https://localhost:8080/"
    },
    "executionInfo": {
     "elapsed": 3493,
     "status": "ok",
     "timestamp": 1656337888622,
     "user": {
      "displayName": "sonal gawande",
      "userId": "06526542575482993508"
     },
     "user_tz": -330
    },
    "id": "JW5bzWofvRtH",
    "outputId": "c7f4b826-e403-4fa4-8528-35d9754c37d3"
   },
   "outputs": [
    {
     "name": "stdout",
     "output_type": "stream",
     "text": [
      "              precision    recall  f1-score   support\n",
      "\n",
      "           0       0.64      0.81      0.71      1450\n",
      "           1       0.74      0.54      0.62      1450\n",
      "\n",
      "    accuracy                           0.67      2900\n",
      "   macro avg       0.69      0.67      0.67      2900\n",
      "weighted avg       0.69      0.67      0.67      2900\n",
      "\n",
      "[[1178  272]\n",
      " [ 671  779]]\n"
     ]
    }
   ],
   "source": [
    "from sklearn.svm import SVC\n",
    "sv_poly=SVC(random_state=1,kernel='poly')\n",
    "sv_poly=stroke(sv_poly)"
   ]
  },
  {
   "cell_type": "markdown",
   "metadata": {
    "id": "80uaDDGsFQtv"
   },
   "source": [
    "<br>**12.SVC Radial Basis Kernel Function**"
   ]
  },
  {
   "cell_type": "code",
   "execution_count": 48,
   "metadata": {
    "colab": {
     "base_uri": "https://localhost:8080/"
    },
    "executionInfo": {
     "elapsed": 5307,
     "status": "ok",
     "timestamp": 1656337893923,
     "user": {
      "displayName": "sonal gawande",
      "userId": "06526542575482993508"
     },
     "user_tz": -330
    },
    "id": "hm9SxQcUwF7f",
    "outputId": "4aac8a57-dde9-404d-ac9b-5ea09ba50715"
   },
   "outputs": [
    {
     "name": "stdout",
     "output_type": "stream",
     "text": [
      "              precision    recall  f1-score   support\n",
      "\n",
      "           0       0.64      0.79      0.71      1450\n",
      "           1       0.72      0.56      0.63      1450\n",
      "\n",
      "    accuracy                           0.67      2900\n",
      "   macro avg       0.68      0.67      0.67      2900\n",
      "weighted avg       0.68      0.67      0.67      2900\n",
      "\n",
      "[[1139  311]\n",
      " [ 633  817]]\n"
     ]
    }
   ],
   "source": [
    "sv_r=SVC(random_state=1,kernel='rbf')\n",
    "sv_r=stroke(sv_r)"
   ]
  },
  {
   "cell_type": "markdown",
   "metadata": {
    "id": "Py08TMkrFXcw"
   },
   "source": [
    "<br>**13.KNeighbors Classifier**"
   ]
  },
  {
   "cell_type": "code",
   "execution_count": 49,
   "metadata": {
    "colab": {
     "base_uri": "https://localhost:8080/"
    },
    "executionInfo": {
     "elapsed": 636,
     "status": "ok",
     "timestamp": 1656337894554,
     "user": {
      "displayName": "sonal gawande",
      "userId": "06526542575482993508"
     },
     "user_tz": -330
    },
    "id": "eXKctqq9wQf1",
    "outputId": "9eb30152-184c-439b-b221-76a0705eb7af"
   },
   "outputs": [
    {
     "name": "stdout",
     "output_type": "stream",
     "text": [
      "              precision    recall  f1-score   support\n",
      "\n",
      "           0       0.53      0.90      0.66      1450\n",
      "           1       0.65      0.20      0.30      1450\n",
      "\n",
      "    accuracy                           0.55      2900\n",
      "   macro avg       0.59      0.55      0.48      2900\n",
      "weighted avg       0.59      0.55      0.48      2900\n",
      "\n",
      "[[1298  152]\n",
      " [1165  285]]\n"
     ]
    }
   ],
   "source": [
    "from sklearn.neighbors import KNeighborsClassifier\n",
    "knc=KNeighborsClassifier(n_neighbors=5,p=2,metric='minkowski')\n",
    "knc=stroke(knc)"
   ]
  },
  {
   "cell_type": "markdown",
   "metadata": {
    "id": "2O1K_cyI_fli"
   },
   "source": [
    "<br>**14.Gaussian Naive Bayes(GaussianNB)**"
   ]
  },
  {
   "cell_type": "code",
   "execution_count": 50,
   "metadata": {
    "colab": {
     "base_uri": "https://localhost:8080/"
    },
    "executionInfo": {
     "elapsed": 4,
     "status": "ok",
     "timestamp": 1656337909577,
     "user": {
      "displayName": "sonal gawande",
      "userId": "06526542575482993508"
     },
     "user_tz": -330
    },
    "id": "3_v9sYQRz4P-",
    "outputId": "89542b77-c710-45c6-b66c-addd08b860a7"
   },
   "outputs": [
    {
     "name": "stdout",
     "output_type": "stream",
     "text": [
      "              precision    recall  f1-score   support\n",
      "\n",
      "           0       0.78      0.75      0.77      1450\n",
      "           1       0.76      0.79      0.78      1450\n",
      "\n",
      "    accuracy                           0.77      2900\n",
      "   macro avg       0.77      0.77      0.77      2900\n",
      "weighted avg       0.77      0.77      0.77      2900\n",
      "\n",
      "[[1092  358]\n",
      " [ 304 1146]]\n"
     ]
    }
   ],
   "source": [
    "from sklearn.naive_bayes import GaussianNB\n",
    "gnb=GaussianNB()\n",
    "gnb=stroke(gnb)"
   ]
  },
  {
   "cell_type": "markdown",
   "metadata": {
    "id": "LMS5oT4YmNQE"
   },
   "source": [
    "<br>**<u>CONCLUSION:</u>**\n",
    "\n",
    "\n",
    "*  In our classification model we have used 18 different \n",
    "\n",
    "    algorithms mentioned in below table with there scores.\n",
    "*  The best result we got is in **Ada Boost Classifier i.e. 0.94**\n",
    "\n",
    "\n",
    "\n"
   ]
  },
  {
   "cell_type": "markdown",
   "metadata": {
    "id": "W-A2xmBr9EKk"
   },
   "source": [
    "<pre><b style=font-size:17px>Machine Learning Algorithms                 Results (Recall 1)</b>\n",
    "------------------------------------------------------- -----------------\n",
    "1.Logistic Regression                                      0.85\n",
    "\n",
    "2.Decision Tree Classifier  (Gini)                         0.12\n",
    "                                                          \n",
    "3.Decision Tree Classifier  (Entropy)                      0.16\n",
    "                                                          \n",
    "4.Decision Tree Classifier  Max Depth (Gini)               0.80\n",
    "                                                          \n",
    "5.Decision Tree Classifier  Max Depth (Entropy)            0.78 \n",
    "                                                          \n",
    "6.Decision Tree Classifier  Min Samples Leaf (Gini)        0.70\n",
    "                                                          \n",
    "7.Decision Tree Classifier  Min Samples Leaf (Entropy)     0.70\n",
    "                                                          \n",
    "8.Random Forest Classifier (Gini)                          0.24\n",
    "                                                          \n",
    "9.Random Forest Classifier (Entropy)                       0.27\n",
    "                                                          \n",
    "<mark style=background:#6495ed>10.Ada Boost Classifier                                    0.94</mark>\n",
    "                                                          \n",
    "<mark style=background:#add8e6>11.Gradient Boost Classifier                               0.87</mark>\n",
    "                                                          \n",
    "<mark style=background:#89cff0>12.Extreme Gradient Boost Classifier                       0.88</mark>\n",
    "                                                          \n",
    "13.Linear SVC                                              0.85\n",
    "                                                          \n",
    "14.Linear SVC(Adding Errors)                               0.85\n",
    "                                                          \n",
    "15.SVC Polynomial Kernel Function                          0.54\n",
    "                                                          \n",
    "16.SVC Radial Basis Kernel Function                        0.56\n",
    "                                                          \n",
    "17.KNeighbors Classifier                                   0.20\n",
    "\n",
    "18.Gaussian Naive Bayes                                    0.79</pre>"
   ]
  }
 ],
 "metadata": {
  "colab": {
   "authorship_tag": "ABX9TyPZfI9OXtuyVceFNJfWUTDU",
   "collapsed_sections": [],
   "mount_file_id": "1_44amTspiIPC7lZs3J39NisvimYGTYfz",
   "name": "Stroke.ipynb",
   "provenance": []
  },
  "kernelspec": {
   "display_name": "Python 3 (ipykernel)",
   "language": "python",
   "name": "python3"
  },
  "language_info": {
   "codemirror_mode": {
    "name": "ipython",
    "version": 3
   },
   "file_extension": ".py",
   "mimetype": "text/x-python",
   "name": "python",
   "nbconvert_exporter": "python",
   "pygments_lexer": "ipython3",
   "version": "3.9.7"
  }
 },
 "nbformat": 4,
 "nbformat_minor": 1
}
